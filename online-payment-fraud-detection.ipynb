{
 "cells": [
  {
   "cell_type": "markdown",
   "id": "25f4f87a",
   "metadata": {},
   "source": [
    "# Online payment fraud detection - ML project\n",
    "## Doris BAILLARD"
   ]
  },
  {
   "cell_type": "markdown",
   "id": "6a1e375c",
   "metadata": {},
   "source": [
    "# 0 - Imports and dataset loading"
   ]
  },
  {
   "cell_type": "code",
   "execution_count": 1,
   "id": "d530d3ff",
   "metadata": {},
   "outputs": [],
   "source": [
    "import pandas as pd\n",
    "import numpy as np\n",
    "import matplotlib.pyplot as plt\n",
    "import seaborn as sns \n",
    "from imblearn.under_sampling import RandomUnderSampler\n",
    "from imblearn.over_sampling import RandomOverSampler\n",
    "from sklearn.ensemble import RandomForestClassifier\n",
    "from sklearn.metrics import classification_report, precision_score, accuracy_score, recall_score, f1_score,roc_auc_score\n",
    "from sklearn.model_selection import train_test_split\n",
    "from sklearn.linear_model import LogisticRegression\n",
    "import matplotlib.pyplot as plt\n",
    "from sklearn.metrics import precision_recall_curve\n",
    "from sklearn.metrics import auc\n",
    "from collections import Counter\n",
    "from imblearn.over_sampling import SMOTE\n",
    "import lightgbm as lgb\n",
    "from sklearn.metrics import confusion_matrix\n",
    "import os\n",
    "import warnings\n",
    "warnings.filterwarnings('ignore')"
   ]
  },
  {
   "cell_type": "code",
   "execution_count": 2,
   "id": "5335db84",
   "metadata": {},
   "outputs": [
    {
     "data": {
      "text/html": [
       "<div>\n",
       "<style scoped>\n",
       "    .dataframe tbody tr th:only-of-type {\n",
       "        vertical-align: middle;\n",
       "    }\n",
       "\n",
       "    .dataframe tbody tr th {\n",
       "        vertical-align: top;\n",
       "    }\n",
       "\n",
       "    .dataframe thead th {\n",
       "        text-align: right;\n",
       "    }\n",
       "</style>\n",
       "<table border=\"1\" class=\"dataframe\">\n",
       "  <thead>\n",
       "    <tr style=\"text-align: right;\">\n",
       "      <th></th>\n",
       "      <th>step</th>\n",
       "      <th>type</th>\n",
       "      <th>amount</th>\n",
       "      <th>nameOrig</th>\n",
       "      <th>oldbalanceOrg</th>\n",
       "      <th>newbalanceOrig</th>\n",
       "      <th>nameDest</th>\n",
       "      <th>oldbalanceDest</th>\n",
       "      <th>newbalanceDest</th>\n",
       "      <th>isFraud</th>\n",
       "      <th>isFlaggedFraud</th>\n",
       "    </tr>\n",
       "  </thead>\n",
       "  <tbody>\n",
       "    <tr>\n",
       "      <th>0</th>\n",
       "      <td>1</td>\n",
       "      <td>PAYMENT</td>\n",
       "      <td>9839.64</td>\n",
       "      <td>C1231006815</td>\n",
       "      <td>170136.0</td>\n",
       "      <td>160296.36</td>\n",
       "      <td>M1979787155</td>\n",
       "      <td>0.0</td>\n",
       "      <td>0.0</td>\n",
       "      <td>0</td>\n",
       "      <td>0</td>\n",
       "    </tr>\n",
       "    <tr>\n",
       "      <th>1</th>\n",
       "      <td>1</td>\n",
       "      <td>PAYMENT</td>\n",
       "      <td>1864.28</td>\n",
       "      <td>C1666544295</td>\n",
       "      <td>21249.0</td>\n",
       "      <td>19384.72</td>\n",
       "      <td>M2044282225</td>\n",
       "      <td>0.0</td>\n",
       "      <td>0.0</td>\n",
       "      <td>0</td>\n",
       "      <td>0</td>\n",
       "    </tr>\n",
       "    <tr>\n",
       "      <th>2</th>\n",
       "      <td>1</td>\n",
       "      <td>TRANSFER</td>\n",
       "      <td>181.00</td>\n",
       "      <td>C1305486145</td>\n",
       "      <td>181.0</td>\n",
       "      <td>0.00</td>\n",
       "      <td>C553264065</td>\n",
       "      <td>0.0</td>\n",
       "      <td>0.0</td>\n",
       "      <td>1</td>\n",
       "      <td>0</td>\n",
       "    </tr>\n",
       "    <tr>\n",
       "      <th>3</th>\n",
       "      <td>1</td>\n",
       "      <td>CASH_OUT</td>\n",
       "      <td>181.00</td>\n",
       "      <td>C840083671</td>\n",
       "      <td>181.0</td>\n",
       "      <td>0.00</td>\n",
       "      <td>C38997010</td>\n",
       "      <td>21182.0</td>\n",
       "      <td>0.0</td>\n",
       "      <td>1</td>\n",
       "      <td>0</td>\n",
       "    </tr>\n",
       "    <tr>\n",
       "      <th>4</th>\n",
       "      <td>1</td>\n",
       "      <td>PAYMENT</td>\n",
       "      <td>11668.14</td>\n",
       "      <td>C2048537720</td>\n",
       "      <td>41554.0</td>\n",
       "      <td>29885.86</td>\n",
       "      <td>M1230701703</td>\n",
       "      <td>0.0</td>\n",
       "      <td>0.0</td>\n",
       "      <td>0</td>\n",
       "      <td>0</td>\n",
       "    </tr>\n",
       "  </tbody>\n",
       "</table>\n",
       "</div>"
      ],
      "text/plain": [
       "   step      type    amount     nameOrig  oldbalanceOrg  newbalanceOrig  \\\n",
       "0     1   PAYMENT   9839.64  C1231006815       170136.0       160296.36   \n",
       "1     1   PAYMENT   1864.28  C1666544295        21249.0        19384.72   \n",
       "2     1  TRANSFER    181.00  C1305486145          181.0            0.00   \n",
       "3     1  CASH_OUT    181.00   C840083671          181.0            0.00   \n",
       "4     1   PAYMENT  11668.14  C2048537720        41554.0        29885.86   \n",
       "\n",
       "      nameDest  oldbalanceDest  newbalanceDest  isFraud  isFlaggedFraud  \n",
       "0  M1979787155             0.0             0.0        0               0  \n",
       "1  M2044282225             0.0             0.0        0               0  \n",
       "2   C553264065             0.0             0.0        1               0  \n",
       "3    C38997010         21182.0             0.0        1               0  \n",
       "4  M1230701703             0.0             0.0        0               0  "
      ]
     },
     "execution_count": 2,
     "metadata": {},
     "output_type": "execute_result"
    }
   ],
   "source": [
    "#Here I load the dataset\n",
    "df = pd.read_csv('fraud-detection.csv')\n",
    "df.head()"
   ]
  },
  {
   "cell_type": "markdown",
   "id": "0aa6c9b2",
   "metadata": {},
   "source": [
    "# 1 - EDA "
   ]
  },
  {
   "cell_type": "markdown",
   "id": "1037de4c",
   "metadata": {},
   "source": [
    "Notes : the dataset is composed of 11 columns and +6M rows\n",
    "\n",
    "columns : \n",
    "- step: represents a unit of time where 1 step equals 1 hour\n",
    "- type: type of online transaction\n",
    "- amount: the amount of the transaction\n",
    "- nameOrig: customer starting the transaction\n",
    "- oldbalanceOrg: balance before the transaction\n",
    "- newbalanceOrig: balance after the transaction\n",
    "- nameDest: recipient of the transaction\n",
    "- oldbalanceDest: initial balance of recipient before the transaction\n",
    "- newbalanceDest: the new balance of recipient after the transaction\n",
    "- isFraud: fraud transaction\n",
    "- isFlaggedFraud : fraud detections to correct"
   ]
  },
  {
   "cell_type": "code",
   "execution_count": 3,
   "id": "6076a69a",
   "metadata": {
    "scrolled": true
   },
   "outputs": [
    {
     "name": "stdout",
     "output_type": "stream",
     "text": [
      "<class 'pandas.core.frame.DataFrame'>\n",
      "RangeIndex: 6362620 entries, 0 to 6362619\n",
      "Data columns (total 11 columns):\n",
      " #   Column          Dtype  \n",
      "---  ------          -----  \n",
      " 0   step            int64  \n",
      " 1   type            object \n",
      " 2   amount          float64\n",
      " 3   nameOrig        object \n",
      " 4   oldbalanceOrg   float64\n",
      " 5   newbalanceOrig  float64\n",
      " 6   nameDest        object \n",
      " 7   oldbalanceDest  float64\n",
      " 8   newbalanceDest  float64\n",
      " 9   isFraud         int64  \n",
      " 10  isFlaggedFraud  int64  \n",
      "dtypes: float64(5), int64(3), object(3)\n",
      "memory usage: 534.0+ MB\n"
     ]
    },
    {
     "data": {
      "text/plain": [
       "(None, (6362620, 11))"
      ]
     },
     "execution_count": 3,
     "metadata": {},
     "output_type": "execute_result"
    }
   ],
   "source": [
    "df.info(), df.shape"
   ]
  },
  {
   "cell_type": "code",
   "execution_count": 4,
   "id": "0aed8e66",
   "metadata": {
    "scrolled": true
   },
   "outputs": [
    {
     "data": {
      "text/plain": [
       "step              0\n",
       "type              0\n",
       "amount            0\n",
       "nameOrig          0\n",
       "oldbalanceOrg     0\n",
       "newbalanceOrig    0\n",
       "nameDest          0\n",
       "oldbalanceDest    0\n",
       "newbalanceDest    0\n",
       "isFraud           0\n",
       "isFlaggedFraud    0\n",
       "dtype: int64"
      ]
     },
     "execution_count": 4,
     "metadata": {},
     "output_type": "execute_result"
    }
   ],
   "source": [
    "df.isna().sum() # no missing values "
   ]
  },
  {
   "cell_type": "code",
   "execution_count": 5,
   "id": "4e6e6552",
   "metadata": {
    "scrolled": true
   },
   "outputs": [
    {
     "data": {
      "text/plain": [
       "0"
      ]
     },
     "execution_count": 5,
     "metadata": {},
     "output_type": "execute_result"
    }
   ],
   "source": [
    "df.duplicated().sum() # no duplicated values "
   ]
  },
  {
   "cell_type": "markdown",
   "id": "d9c897fc",
   "metadata": {},
   "source": [
    "## Focus on the type of payment"
   ]
  },
  {
   "cell_type": "code",
   "execution_count": 6,
   "id": "407f8dbd",
   "metadata": {
    "scrolled": true
   },
   "outputs": [
    {
     "data": {
      "text/plain": [
       "CASH_OUT    2237500\n",
       "PAYMENT     2151495\n",
       "CASH_IN     1399284\n",
       "TRANSFER     532909\n",
       "DEBIT         41432\n",
       "Name: type, dtype: int64"
      ]
     },
     "execution_count": 6,
     "metadata": {},
     "output_type": "execute_result"
    }
   ],
   "source": [
    "df.type.value_counts()\n",
    "# notes :\n",
    "#types of payment in the dataset which are : 'CASH_OUT','PAYMENT','CASH_IN', 'TRANSFER', 'DEBIT'\n",
    "#We can notice than the largest part of the transactions corresponds to cash out"
   ]
  },
  {
   "cell_type": "code",
   "execution_count": 7,
   "id": "69574608",
   "metadata": {},
   "outputs": [
    {
     "data": {
      "text/plain": [
       "8213"
      ]
     },
     "execution_count": 7,
     "metadata": {},
     "output_type": "execute_result"
    }
   ],
   "source": [
    "df[df.isFraud == 1]['isFraud'].count() #isolates the fraudulent cases"
   ]
  },
  {
   "cell_type": "code",
   "execution_count": 8,
   "id": "fe4de96e",
   "metadata": {},
   "outputs": [
    {
     "data": {
      "text/plain": [
       "CASH_OUT    4116\n",
       "TRANSFER    4097\n",
       "Name: type, dtype: int64"
      ]
     },
     "execution_count": 8,
     "metadata": {},
     "output_type": "execute_result"
    }
   ],
   "source": [
    "df[df.isFraud == 1]['type'].value_counts() #shows which type of payment is more likely to be fraudulent in the dataset"
   ]
  },
  {
   "cell_type": "code",
   "execution_count": 9,
   "id": "8ff3ebbb",
   "metadata": {},
   "outputs": [
    {
     "data": {
      "text/plain": [
       "<AxesSubplot:title={'center':'Focused on frauds'}, xlabel='type', ylabel='count'>"
      ]
     },
     "execution_count": 9,
     "metadata": {},
     "output_type": "execute_result"
    },
    {
     "data": {
      "image/png": "[encoded data removed]",
      "text/plain": [
       "<Figure size 1152x360 with 2 Axes>"
      ]
     },
     "metadata": {
      "needs_background": "light"
     },
     "output_type": "display_data"
    }
   ],
   "source": [
    "#Let's plot the distribution of the type of payment \n",
    "fig, axes = plt.subplots(1, 2, figsize=(16,5))\n",
    "fig.suptitle('distribution of transactions by payment type')\n",
    "axes[0].set_title('General view')\n",
    "axes[1].set_title('Focused on frauds')\n",
    "\n",
    "#general view\n",
    "sns.set(style=\"whitegrid\")\n",
    "sns.countplot(ax=axes[0],x=df[\"type\"])\n",
    "\n",
    "\n",
    "#focused on frauds\n",
    "sns.set(style=\"whitegrid\")\n",
    "sns.countplot(ax=axes[1],x=df[df.isFraud == 1]['type'])\n"
   ]
  },
  {
   "cell_type": "markdown",
   "id": "d52814ec",
   "metadata": {},
   "source": [
    "## Focus on the amounts "
   ]
  },
  {
   "cell_type": "code",
   "execution_count": 10,
   "id": "d8c98da2",
   "metadata": {
    "scrolled": true
   },
   "outputs": [
    {
     "data": {
      "text/plain": [
       "count    6.362620e+06\n",
       "mean     1.798619e+05\n",
       "std      6.038582e+05\n",
       "min      0.000000e+00\n",
       "25%      1.338957e+04\n",
       "50%      7.487194e+04\n",
       "75%      2.087215e+05\n",
       "max      9.244552e+07\n",
       "Name: amount, dtype: float64"
      ]
     },
     "execution_count": 10,
     "metadata": {},
     "output_type": "execute_result"
    }
   ],
   "source": [
    "df.amount.describe() \n",
    "#here are the stats for the amounts"
   ]
  },
  {
   "cell_type": "code",
   "execution_count": 11,
   "id": "2978f2ac",
   "metadata": {},
   "outputs": [
    {
     "name": "stdout",
     "output_type": "stream",
     "text": [
      "The minimal amount of transaction in the dataset is : 0.0\n",
      "The maximal amount is : 92445516.64\n",
      "The average amount is : 179861.90354913071\n"
     ]
    }
   ],
   "source": [
    "#for more details:\n",
    "\n",
    "print(\"The minimal amount of transaction in the dataset is : \" + str(df.amount.min()))\n",
    "print(\"The maximal amount is : \"+ str(df.amount.max()))\n",
    "print(\"The average amount is : \"+ str(df.amount.mean()))"
   ]
  },
  {
   "cell_type": "code",
   "execution_count": 12,
   "id": "fe6ed0fd",
   "metadata": {
    "scrolled": false
   },
   "outputs": [
    {
     "data": {
      "text/plain": [
       "10000000.00    3207\n",
       "10000.00         88\n",
       "5000.00          79\n",
       "15000.00         68\n",
       "500.00           65\n",
       "               ... \n",
       "8513.48           1\n",
       "189137.90         1\n",
       "1615.78           1\n",
       "128891.19         1\n",
       "12257.89          1\n",
       "Name: amount, Length: 5316900, dtype: int64"
      ]
     },
     "execution_count": 12,
     "metadata": {},
     "output_type": "execute_result"
    }
   ],
   "source": [
    "df.amount.value_counts() #The majority of the transactions have an amount of 10M dollars"
   ]
  },
  {
   "cell_type": "markdown",
   "id": "47f34c03",
   "metadata": {},
   "source": [
    "## Focus on detected frauds and real frauds\n"
   ]
  },
  {
   "cell_type": "code",
   "execution_count": 13,
   "id": "965f7029",
   "metadata": {},
   "outputs": [
    {
     "data": {
      "text/plain": [
       "0    6354407\n",
       "1       8213\n",
       "Name: isFraud, dtype: int64"
      ]
     },
     "execution_count": 13,
     "metadata": {},
     "output_type": "execute_result"
    }
   ],
   "source": [
    "df.isFraud.value_counts() #true frauds"
   ]
  },
  {
   "cell_type": "code",
   "execution_count": 14,
   "id": "97348877",
   "metadata": {
    "scrolled": true
   },
   "outputs": [
    {
     "data": {
      "text/plain": [
       "0    6362604\n",
       "1         16\n",
       "Name: isFlaggedFraud, dtype: int64"
      ]
     },
     "execution_count": 14,
     "metadata": {},
     "output_type": "execute_result"
    }
   ],
   "source": [
    "df.isFlaggedFraud.value_counts() #only 16 transactions have been detected as frauds against 8213 real frauds"
   ]
  },
  {
   "cell_type": "code",
   "execution_count": 15,
   "id": "1f33546d",
   "metadata": {},
   "outputs": [
    {
     "data": {
      "image/png": "[encoded data removed]",
      "text/plain": [
       "<Figure size 432x288 with 2 Axes>"
      ]
     },
     "metadata": {},
     "output_type": "display_data"
    }
   ],
   "source": [
    "cf_matrix = confusion_matrix(df.isFraud,df.isFlaggedFraud)\n",
    "#print(cf_matrix)\n",
    "\n",
    "group_names = ['True Neg','False Pos','False Neg','True Pos']\n",
    "group_counts = ['{0:0.0f}'.format(value) for value in\n",
    "                cf_matrix.flatten()]\n",
    "labels = [f'{v1}\\n\\n{v2}' for v1, v2 in\n",
    "          zip(group_names,group_counts)]\n",
    "labels = np.asarray(labels).reshape(2,2)\n",
    "\n",
    "sns.heatmap(cf_matrix, annot=labels,fmt='',cmap='Blues')\n",
    "plt.xlabel(\"Predicted Classes\")\n",
    "plt.ylabel(\"True Classes\")\n",
    "plt.show()"
   ]
  },
  {
   "cell_type": "code",
   "execution_count": 16,
   "id": "78ff1244",
   "metadata": {},
   "outputs": [
    {
     "name": "stdout",
     "output_type": "stream",
     "text": [
      "% of negatives & positives in the original dataset\n",
      "0    99.87\n",
      "1     0.13\n",
      "Name: isFraud, dtype: float64\n"
     ]
    }
   ],
   "source": [
    "# Ratio of positives (fraud yes = 1) & negatives (no fraud = 0)\n",
    "\n",
    "#real frauds\n",
    "print(\"% of negatives & positives in the original dataset\")\n",
    "print(round((df[\"isFraud\"].value_counts()/len(df))*100, ndigits=2))"
   ]
  },
  {
   "cell_type": "code",
   "execution_count": 17,
   "id": "2f51d74b",
   "metadata": {},
   "outputs": [
    {
     "name": "stdout",
     "output_type": "stream",
     "text": [
      "% of negatives & positives in the original dataset\n",
      "0    99.9997\n",
      "1     0.0003\n",
      "Name: isFlaggedFraud, dtype: float64\n"
     ]
    }
   ],
   "source": [
    "#predictions :\n",
    "\n",
    "print(\"% of negatives & positives in the original dataset\")\n",
    "print(round((df[\"isFlaggedFraud\"].value_counts()/len(df))*100, ndigits=4))"
   ]
  },
  {
   "cell_type": "markdown",
   "id": "8ef4c3a8",
   "metadata": {},
   "source": [
    "#### Explanation :\n",
    "- True Negative : corresponds to non-fraudulent transactions that have been detected as such. These predictions are 99% accurate. That is, in 99% of the cases we can distinguish non-fraudulent transactions\n",
    "- False Negative : corresponds to the result where the model incorrectly predicts the negative class : generally the model doesn't find the frauds.\n",
    "- False Positive : corresponds to a result where the model incorrectly predicts the positive class.\n",
    "- True Positive : corresponds to real frauds detected in \"isflaggedFrauds\"(16 on 8K frauds).\n",
    "\n",
    "observation: current predictions are wrong"
   ]
  },
  {
   "cell_type": "markdown",
   "id": "5d3c6355",
   "metadata": {},
   "source": [
    "### Notes : \n",
    "My target is the column \"isFraud\". It is binary => only two classes :\n",
    "\n",
    "\"0\" for a non-fraudulent transaction\n",
    "\"1\" for a fraudulent one.\n",
    "\n",
    "My target is imbalanced : 0.13% of the transactions are fraudulent, and only 0.0003% are detected as so which is insignificant."
   ]
  },
  {
   "cell_type": "markdown",
   "id": "6d56cbe9",
   "metadata": {},
   "source": [
    "# Construction of ML models for fraud detection\n",
    "\n",
    "We are going to test different models to see  which one has the best results for detecting the frauds.\n"
   ]
  },
  {
   "cell_type": "markdown",
   "id": "c32ec349",
   "metadata": {},
   "source": [
    "### But first : Data preparation\n",
    "\n",
    "2 steps : \n",
    "- create dummies for objects (only if we keep the columns)\n",
    "- drop unnecessary columns"
   ]
  },
  {
   "cell_type": "code",
   "execution_count": 18,
   "id": "371e8772",
   "metadata": {},
   "outputs": [
    {
     "data": {
      "text/html": [
       "<div>\n",
       "<style scoped>\n",
       "    .dataframe tbody tr th:only-of-type {\n",
       "        vertical-align: middle;\n",
       "    }\n",
       "\n",
       "    .dataframe tbody tr th {\n",
       "        vertical-align: top;\n",
       "    }\n",
       "\n",
       "    .dataframe thead th {\n",
       "        text-align: right;\n",
       "    }\n",
       "</style>\n",
       "<table border=\"1\" class=\"dataframe\">\n",
       "  <thead>\n",
       "    <tr style=\"text-align: right;\">\n",
       "      <th></th>\n",
       "      <th>step</th>\n",
       "      <th>amount</th>\n",
       "      <th>nameOrig</th>\n",
       "      <th>oldbalanceOrg</th>\n",
       "      <th>newbalanceOrig</th>\n",
       "      <th>nameDest</th>\n",
       "      <th>oldbalanceDest</th>\n",
       "      <th>newbalanceDest</th>\n",
       "      <th>isFraud</th>\n",
       "      <th>isFlaggedFraud</th>\n",
       "      <th>type_CASH_OUT</th>\n",
       "      <th>type_DEBIT</th>\n",
       "      <th>type_PAYMENT</th>\n",
       "      <th>type_TRANSFER</th>\n",
       "    </tr>\n",
       "  </thead>\n",
       "  <tbody>\n",
       "    <tr>\n",
       "      <th>0</th>\n",
       "      <td>1</td>\n",
       "      <td>9839.64</td>\n",
       "      <td>C1231006815</td>\n",
       "      <td>170136.00</td>\n",
       "      <td>160296.36</td>\n",
       "      <td>M1979787155</td>\n",
       "      <td>0.00</td>\n",
       "      <td>0.00</td>\n",
       "      <td>0</td>\n",
       "      <td>0</td>\n",
       "      <td>0</td>\n",
       "      <td>0</td>\n",
       "      <td>1</td>\n",
       "      <td>0</td>\n",
       "    </tr>\n",
       "    <tr>\n",
       "      <th>1</th>\n",
       "      <td>1</td>\n",
       "      <td>1864.28</td>\n",
       "      <td>C1666544295</td>\n",
       "      <td>21249.00</td>\n",
       "      <td>19384.72</td>\n",
       "      <td>M2044282225</td>\n",
       "      <td>0.00</td>\n",
       "      <td>0.00</td>\n",
       "      <td>0</td>\n",
       "      <td>0</td>\n",
       "      <td>0</td>\n",
       "      <td>0</td>\n",
       "      <td>1</td>\n",
       "      <td>0</td>\n",
       "    </tr>\n",
       "    <tr>\n",
       "      <th>2</th>\n",
       "      <td>1</td>\n",
       "      <td>181.00</td>\n",
       "      <td>C1305486145</td>\n",
       "      <td>181.00</td>\n",
       "      <td>0.00</td>\n",
       "      <td>C553264065</td>\n",
       "      <td>0.00</td>\n",
       "      <td>0.00</td>\n",
       "      <td>1</td>\n",
       "      <td>0</td>\n",
       "      <td>0</td>\n",
       "      <td>0</td>\n",
       "      <td>0</td>\n",
       "      <td>1</td>\n",
       "    </tr>\n",
       "    <tr>\n",
       "      <th>3</th>\n",
       "      <td>1</td>\n",
       "      <td>181.00</td>\n",
       "      <td>C840083671</td>\n",
       "      <td>181.00</td>\n",
       "      <td>0.00</td>\n",
       "      <td>C38997010</td>\n",
       "      <td>21182.00</td>\n",
       "      <td>0.00</td>\n",
       "      <td>1</td>\n",
       "      <td>0</td>\n",
       "      <td>1</td>\n",
       "      <td>0</td>\n",
       "      <td>0</td>\n",
       "      <td>0</td>\n",
       "    </tr>\n",
       "    <tr>\n",
       "      <th>4</th>\n",
       "      <td>1</td>\n",
       "      <td>11668.14</td>\n",
       "      <td>C2048537720</td>\n",
       "      <td>41554.00</td>\n",
       "      <td>29885.86</td>\n",
       "      <td>M1230701703</td>\n",
       "      <td>0.00</td>\n",
       "      <td>0.00</td>\n",
       "      <td>0</td>\n",
       "      <td>0</td>\n",
       "      <td>0</td>\n",
       "      <td>0</td>\n",
       "      <td>1</td>\n",
       "      <td>0</td>\n",
       "    </tr>\n",
       "    <tr>\n",
       "      <th>...</th>\n",
       "      <td>...</td>\n",
       "      <td>...</td>\n",
       "      <td>...</td>\n",
       "      <td>...</td>\n",
       "      <td>...</td>\n",
       "      <td>...</td>\n",
       "      <td>...</td>\n",
       "      <td>...</td>\n",
       "      <td>...</td>\n",
       "      <td>...</td>\n",
       "      <td>...</td>\n",
       "      <td>...</td>\n",
       "      <td>...</td>\n",
       "      <td>...</td>\n",
       "    </tr>\n",
       "    <tr>\n",
       "      <th>6362615</th>\n",
       "      <td>743</td>\n",
       "      <td>339682.13</td>\n",
       "      <td>C786484425</td>\n",
       "      <td>339682.13</td>\n",
       "      <td>0.00</td>\n",
       "      <td>C776919290</td>\n",
       "      <td>0.00</td>\n",
       "      <td>339682.13</td>\n",
       "      <td>1</td>\n",
       "      <td>0</td>\n",
       "      <td>1</td>\n",
       "      <td>0</td>\n",
       "      <td>0</td>\n",
       "      <td>0</td>\n",
       "    </tr>\n",
       "    <tr>\n",
       "      <th>6362616</th>\n",
       "      <td>743</td>\n",
       "      <td>6311409.28</td>\n",
       "      <td>C1529008245</td>\n",
       "      <td>6311409.28</td>\n",
       "      <td>0.00</td>\n",
       "      <td>C1881841831</td>\n",
       "      <td>0.00</td>\n",
       "      <td>0.00</td>\n",
       "      <td>1</td>\n",
       "      <td>0</td>\n",
       "      <td>0</td>\n",
       "      <td>0</td>\n",
       "      <td>0</td>\n",
       "      <td>1</td>\n",
       "    </tr>\n",
       "    <tr>\n",
       "      <th>6362617</th>\n",
       "      <td>743</td>\n",
       "      <td>6311409.28</td>\n",
       "      <td>C1162922333</td>\n",
       "      <td>6311409.28</td>\n",
       "      <td>0.00</td>\n",
       "      <td>C1365125890</td>\n",
       "      <td>68488.84</td>\n",
       "      <td>6379898.11</td>\n",
       "      <td>1</td>\n",
       "      <td>0</td>\n",
       "      <td>1</td>\n",
       "      <td>0</td>\n",
       "      <td>0</td>\n",
       "      <td>0</td>\n",
       "    </tr>\n",
       "    <tr>\n",
       "      <th>6362618</th>\n",
       "      <td>743</td>\n",
       "      <td>850002.52</td>\n",
       "      <td>C1685995037</td>\n",
       "      <td>850002.52</td>\n",
       "      <td>0.00</td>\n",
       "      <td>C2080388513</td>\n",
       "      <td>0.00</td>\n",
       "      <td>0.00</td>\n",
       "      <td>1</td>\n",
       "      <td>0</td>\n",
       "      <td>0</td>\n",
       "      <td>0</td>\n",
       "      <td>0</td>\n",
       "      <td>1</td>\n",
       "    </tr>\n",
       "    <tr>\n",
       "      <th>6362619</th>\n",
       "      <td>743</td>\n",
       "      <td>850002.52</td>\n",
       "      <td>C1280323807</td>\n",
       "      <td>850002.52</td>\n",
       "      <td>0.00</td>\n",
       "      <td>C873221189</td>\n",
       "      <td>6510099.11</td>\n",
       "      <td>7360101.63</td>\n",
       "      <td>1</td>\n",
       "      <td>0</td>\n",
       "      <td>1</td>\n",
       "      <td>0</td>\n",
       "      <td>0</td>\n",
       "      <td>0</td>\n",
       "    </tr>\n",
       "  </tbody>\n",
       "</table>\n",
       "<p>6362620 rows × 14 columns</p>\n",
       "</div>"
      ],
      "text/plain": [
       "         step      amount     nameOrig  oldbalanceOrg  newbalanceOrig  \\\n",
       "0           1     9839.64  C1231006815      170136.00       160296.36   \n",
       "1           1     1864.28  C1666544295       21249.00        19384.72   \n",
       "2           1      181.00  C1305486145         181.00            0.00   \n",
       "3           1      181.00   C840083671         181.00            0.00   \n",
       "4           1    11668.14  C2048537720       41554.00        29885.86   \n",
       "...       ...         ...          ...            ...             ...   \n",
       "6362615   743   339682.13   C786484425      339682.13            0.00   \n",
       "6362616   743  6311409.28  C1529008245     6311409.28            0.00   \n",
       "6362617   743  6311409.28  C1162922333     6311409.28            0.00   \n",
       "6362618   743   850002.52  C1685995037      850002.52            0.00   \n",
       "6362619   743   850002.52  C1280323807      850002.52            0.00   \n",
       "\n",
       "            nameDest  oldbalanceDest  newbalanceDest  isFraud  isFlaggedFraud  \\\n",
       "0        M1979787155            0.00            0.00        0               0   \n",
       "1        M2044282225            0.00            0.00        0               0   \n",
       "2         C553264065            0.00            0.00        1               0   \n",
       "3          C38997010        21182.00            0.00        1               0   \n",
       "4        M1230701703            0.00            0.00        0               0   \n",
       "...              ...             ...             ...      ...             ...   \n",
       "6362615   C776919290            0.00       339682.13        1               0   \n",
       "6362616  C1881841831            0.00            0.00        1               0   \n",
       "6362617  C1365125890        68488.84      6379898.11        1               0   \n",
       "6362618  C2080388513            0.00            0.00        1               0   \n",
       "6362619   C873221189      6510099.11      7360101.63        1               0   \n",
       "\n",
       "         type_CASH_OUT  type_DEBIT  type_PAYMENT  type_TRANSFER  \n",
       "0                    0           0             1              0  \n",
       "1                    0           0             1              0  \n",
       "2                    0           0             0              1  \n",
       "3                    1           0             0              0  \n",
       "4                    0           0             1              0  \n",
       "...                ...         ...           ...            ...  \n",
       "6362615              1           0             0              0  \n",
       "6362616              0           0             0              1  \n",
       "6362617              1           0             0              0  \n",
       "6362618              0           0             0              1  \n",
       "6362619              1           0             0              0  \n",
       "\n",
       "[6362620 rows x 14 columns]"
      ]
     },
     "execution_count": 18,
     "metadata": {},
     "output_type": "execute_result"
    }
   ],
   "source": [
    "#create dummies for the column \"type\"\n",
    "df = pd.get_dummies(df, prefix=None,columns=['type'], drop_first=True)\n",
    "df"
   ]
  },
  {
   "cell_type": "code",
   "execution_count": 19,
   "id": "a5cc2cc0",
   "metadata": {},
   "outputs": [],
   "source": [
    "df = df.drop(columns = ['step','isFlaggedFraud','nameOrig','nameDest']) \n",
    "#I decided to drop these columns as I won't need them"
   ]
  },
  {
   "cell_type": "code",
   "execution_count": 20,
   "id": "f45e332a",
   "metadata": {},
   "outputs": [],
   "source": [
    "x = df.drop(columns = ['isFraud']) \n",
    "y = df.isFraud #the column 'isFraud' is my target, I keep it as 'y'. The rest of the features belong to 'x'."
   ]
  },
  {
   "cell_type": "code",
   "execution_count": 21,
   "id": "d2df56de",
   "metadata": {},
   "outputs": [
    {
     "data": {
      "text/plain": [
       "((6362620, 9), (6362620,))"
      ]
     },
     "execution_count": 21,
     "metadata": {},
     "output_type": "execute_result"
    }
   ],
   "source": [
    "x.shape,y.shape #checking the shapes"
   ]
  },
  {
   "cell_type": "code",
   "execution_count": 22,
   "id": "3c43a9a6",
   "metadata": {},
   "outputs": [],
   "source": [
    "#train test split\n",
    "X_train, X_test, y_train, y_test = train_test_split(x, y, random_state = 42, train_size = 0.2)"
   ]
  },
  {
   "cell_type": "code",
   "execution_count": 23,
   "id": "9f362e15",
   "metadata": {},
   "outputs": [
    {
     "data": {
      "text/plain": [
       "((1272524, 9), (1272524,), (5090096, 9), (5090096,))"
      ]
     },
     "execution_count": 23,
     "metadata": {},
     "output_type": "execute_result"
    }
   ],
   "source": [
    "#check shape again\n",
    "X_train.shape,y_train.shape,X_test.shape,y_test.shape"
   ]
  },
  {
   "cell_type": "markdown",
   "id": "bd06c353",
   "metadata": {},
   "source": [
    "### Logistic regression"
   ]
  },
  {
   "cell_type": "code",
   "execution_count": 24,
   "id": "84931d2b",
   "metadata": {
    "scrolled": true
   },
   "outputs": [
    {
     "name": "stdout",
     "output_type": "stream",
     "text": [
      "Classification Report:\n",
      "              precision    recall  f1-score   support\n",
      "\n",
      "           0       1.00      1.00      1.00   5083486\n",
      "           1       0.41      0.71      0.52      6610\n",
      "\n",
      "    accuracy                           1.00   5090096\n",
      "   macro avg       0.71      0.85      0.76   5090096\n",
      "weighted avg       1.00      1.00      1.00   5090096\n",
      "\n"
     ]
    }
   ],
   "source": [
    "lr_model= LogisticRegression(solver= 'liblinear')\n",
    "lr_model.fit(X_train,y_train)\n",
    "lr_pred = lr_model.predict(X_test)\n",
    "\n",
    "print (\"Classification Report:\")\n",
    "print (classification_report(y_test, lr_pred))"
   ]
  },
  {
   "cell_type": "code",
   "execution_count": 25,
   "id": "ce0055b9",
   "metadata": {},
   "outputs": [],
   "source": [
    "def auprc(y_true, y_pred, plot=False):\n",
    "    \n",
    "    \"\"\"A function that returns the area under the precision-recall curve (AUPRC) score of the model.\n",
    "    \n",
    "    Inputs\n",
    "    -----------\n",
    "    > y_true : the labels of the test set.\n",
    "    > y_pred : the predicted labels, in probability form\n",
    "    > plot : wether to print the precision-recall curve plot. Default=False\"\"\"\n",
    "    \n",
    "    precision, recall, thresholds = precision_recall_curve(y_true, y_pred)\n",
    "    if plot == True:\n",
    "        print(plt.plot(recall, precision), plt.title('Precision-Recall Curve'),plt.ylabel('True Positive Rate'),plt.xlabel('False Positive Rate'))\n",
    "    return auc(recall, precision)"
   ]
  },
  {
   "cell_type": "code",
   "execution_count": 26,
   "id": "f4bdf833",
   "metadata": {
    "collapsed": true
   },
   "outputs": [
    {
     "name": "stdout",
     "output_type": "stream",
     "text": [
      "ROC AUC Score= 0.8522168130836478\n",
      "[<matplotlib.lines.Line2D object at 0x0000024F2E7E26E0>] Text(0.5, 1.0, 'Precision-Recall Curve') Text(0, 0.5, 'True Positive Rate') Text(0.5, 0, 'False Positive Rate')\n"
     ]
    },
    {
     "data": {
      "text/plain": [
       "0.5585539931936313"
      ]
     },
     "execution_count": 26,
     "metadata": {},
     "output_type": "execute_result"
    },
    {
     "data": {
      "image/png": "[encoded data removed]",
      "text/plain": [
       "<Figure size 432x288 with 1 Axes>"
      ]
     },
     "metadata": {},
     "output_type": "display_data"
    }
   ],
   "source": [
    "print (\"ROC AUC Score=\",roc_auc_score(y_test, lr_pred))\n",
    "\n",
    "auprc(y_test,  lr_pred, plot=True)"
   ]
  },
  {
   "cell_type": "code",
   "execution_count": 27,
   "id": "7a12f187",
   "metadata": {},
   "outputs": [
    {
     "name": "stdout",
     "output_type": "stream",
     "text": [
      "[[5076800    6686]\n",
      " [   1945    4665]]\n"
     ]
    },
    {
     "data": {
      "image/png": "[encoded data removed]",
      "text/plain": [
       "<Figure size 432x288 with 2 Axes>"
      ]
     },
     "metadata": {},
     "output_type": "display_data"
    }
   ],
   "source": [
    "cf_matrix_lr = confusion_matrix(y_test, lr_pred)\n",
    "print(cf_matrix_lr)\n",
    "\n",
    "group_names_lr = ['True Neg','False Pos','False Neg','True Pos']\n",
    "group_counts_lr = ['{0:0.0f}'.format(value) for value in\n",
    "                cf_matrix_lr.flatten()]\n",
    "labels_lr = [f'{v1}\\n\\n{v2}' for v1, v2 in\n",
    "          zip(group_names_lr,group_counts_lr)]\n",
    "labels_lr = np.asarray(labels_lr).reshape(2,2)\n",
    "\n",
    "sns.heatmap(cf_matrix_lr, annot=labels_lr,fmt='',cmap='Blues')\n",
    "plt.xlabel(\"Predicted Classes\")\n",
    "plt.ylabel(\"True Classes\")\n",
    "plt.show()"
   ]
  },
  {
   "cell_type": "markdown",
   "id": "d4217884",
   "metadata": {},
   "source": [
    "### Random Forest classifier"
   ]
  },
  {
   "cell_type": "code",
   "execution_count": 28,
   "id": "97752947",
   "metadata": {},
   "outputs": [],
   "source": [
    "rf = RandomForestClassifier()"
   ]
  },
  {
   "cell_type": "code",
   "execution_count": 29,
   "id": "edeb7033",
   "metadata": {
    "scrolled": true
   },
   "outputs": [
    {
     "data": {
      "text/html": [
       "<style>#sk-container-id-1 {color: black;background-color: white;}#sk-container-id-1 pre{padding: 0;}#sk-container-id-1 div.sk-toggleable {background-color: white;}#sk-container-id-1 label.sk-toggleable__label {cursor: pointer;display: block;width: 100%;margin-bottom: 0;padding: 0.3em;box-sizing: border-box;text-align: center;}#sk-container-id-1 label.sk-toggleable__label-arrow:before {content: \"▸\";float: left;margin-right: 0.25em;color: #696969;}#sk-container-id-1 label.sk-toggleable__label-arrow:hover:before {color: black;}#sk-container-id-1 div.sk-estimator:hover label.sk-toggleable__label-arrow:before {color: black;}#sk-container-id-1 div.sk-toggleable__content {max-height: 0;max-width: 0;overflow: hidden;text-align: left;background-color: #f0f8ff;}#sk-container-id-1 div.sk-toggleable__content pre {margin: 0.2em;color: black;border-radius: 0.25em;background-color: #f0f8ff;}#sk-container-id-1 input.sk-toggleable__control:checked~div.sk-toggleable__content {max-height: 200px;max-width: 100%;overflow: auto;}#sk-container-id-1 input.sk-toggleable__control:checked~label.sk-toggleable__label-arrow:before {content: \"▾\";}#sk-container-id-1 div.sk-estimator input.sk-toggleable__control:checked~label.sk-toggleable__label {background-color: #d4ebff;}#sk-container-id-1 div.sk-label input.sk-toggleable__control:checked~label.sk-toggleable__label {background-color: #d4ebff;}#sk-container-id-1 input.sk-hidden--visually {border: 0;clip: rect(1px 1px 1px 1px);clip: rect(1px, 1px, 1px, 1px);height: 1px;margin: -1px;overflow: hidden;padding: 0;position: absolute;width: 1px;}#sk-container-id-1 div.sk-estimator {font-family: monospace;background-color: #f0f8ff;border: 1px dotted black;border-radius: 0.25em;box-sizing: border-box;margin-bottom: 0.5em;}#sk-container-id-1 div.sk-estimator:hover {background-color: #d4ebff;}#sk-container-id-1 div.sk-parallel-item::after {content: \"\";width: 100%;border-bottom: 1px solid gray;flex-grow: 1;}#sk-container-id-1 div.sk-label:hover label.sk-toggleable__label {background-color: #d4ebff;}#sk-container-id-1 div.sk-serial::before {content: \"\";position: absolute;border-left: 1px solid gray;box-sizing: border-box;top: 0;bottom: 0;left: 50%;z-index: 0;}#sk-container-id-1 div.sk-serial {display: flex;flex-direction: column;align-items: center;background-color: white;padding-right: 0.2em;padding-left: 0.2em;position: relative;}#sk-container-id-1 div.sk-item {position: relative;z-index: 1;}#sk-container-id-1 div.sk-parallel {display: flex;align-items: stretch;justify-content: center;background-color: white;position: relative;}#sk-container-id-1 div.sk-item::before, #sk-container-id-1 div.sk-parallel-item::before {content: \"\";position: absolute;border-left: 1px solid gray;box-sizing: border-box;top: 0;bottom: 0;left: 50%;z-index: -1;}#sk-container-id-1 div.sk-parallel-item {display: flex;flex-direction: column;z-index: 1;position: relative;background-color: white;}#sk-container-id-1 div.sk-parallel-item:first-child::after {align-self: flex-end;width: 50%;}#sk-container-id-1 div.sk-parallel-item:last-child::after {align-self: flex-start;width: 50%;}#sk-container-id-1 div.sk-parallel-item:only-child::after {width: 0;}#sk-container-id-1 div.sk-dashed-wrapped {border: 1px dashed gray;margin: 0 0.4em 0.5em 0.4em;box-sizing: border-box;padding-bottom: 0.4em;background-color: white;}#sk-container-id-1 div.sk-label label {font-family: monospace;font-weight: bold;display: inline-block;line-height: 1.2em;}#sk-container-id-1 div.sk-label-container {text-align: center;}#sk-container-id-1 div.sk-container {/* jupyter's `normalize.less` sets `[hidden] { display: none; }` but bootstrap.min.css set `[hidden] { display: none !important; }` so we also need the `!important` here to be able to override the default hidden behavior on the sphinx rendered scikit-learn.org. See: https://github.com/scikit-learn/scikit-learn/issues/21755 */display: inline-block !important;position: relative;}#sk-container-id-1 div.sk-text-repr-fallback {display: none;}</style><div id=\"sk-container-id-1\" class=\"sk-top-container\"><div class=\"sk-text-repr-fallback\"><pre>RandomForestClassifier()</pre><b>In a Jupyter environment, please rerun this cell to show the HTML representation or trust the notebook. <br />On GitHub, the HTML representation is unable to render, please try loading this page with nbviewer.org.</b></div><div class=\"sk-container\" hidden><div class=\"sk-item\"><div class=\"sk-estimator sk-toggleable\"><input class=\"sk-toggleable__control sk-hidden--visually\" id=\"sk-estimator-id-1\" type=\"checkbox\" checked><label for=\"sk-estimator-id-1\" class=\"sk-toggleable__label sk-toggleable__label-arrow\">RandomForestClassifier</label><div class=\"sk-toggleable__content\"><pre>RandomForestClassifier()</pre></div></div></div></div></div>"
      ],
      "text/plain": [
       "RandomForestClassifier()"
      ]
     },
     "execution_count": 29,
     "metadata": {},
     "output_type": "execute_result"
    }
   ],
   "source": [
    "rf.fit(X_train,y_train)"
   ]
  },
  {
   "cell_type": "code",
   "execution_count": 30,
   "id": "504ab703",
   "metadata": {},
   "outputs": [],
   "source": [
    "rf_predict = rf.predict(X_test)"
   ]
  },
  {
   "cell_type": "code",
   "execution_count": 31,
   "id": "365fc123",
   "metadata": {},
   "outputs": [
    {
     "name": "stdout",
     "output_type": "stream",
     "text": [
      "Classification Report:\n",
      "              precision    recall  f1-score   support\n",
      "\n",
      "           0       1.00      1.00      1.00   5083486\n",
      "           1       0.97      0.76      0.85      6610\n",
      "\n",
      "    accuracy                           1.00   5090096\n",
      "   macro avg       0.98      0.88      0.92   5090096\n",
      "weighted avg       1.00      1.00      1.00   5090096\n",
      "\n"
     ]
    }
   ],
   "source": [
    "print (\"Classification Report:\")\n",
    "print (classification_report(y_test, rf_predict))"
   ]
  },
  {
   "cell_type": "code",
   "execution_count": 32,
   "id": "30d3b4bc",
   "metadata": {
    "collapsed": true
   },
   "outputs": [
    {
     "name": "stdout",
     "output_type": "stream",
     "text": [
      "ROC Auc score:  0.8791808736133214\n",
      "[<matplotlib.lines.Line2D object at 0x0000024F2E906170>] Text(0.5, 1.0, 'Precision-Recall Curve') Text(0, 0.5, 'True Positive Rate') Text(0.5, 0, 'False Positive Rate')\n"
     ]
    },
    {
     "data": {
      "text/plain": [
       "0.8623961062095782"
      ]
     },
     "execution_count": 32,
     "metadata": {},
     "output_type": "execute_result"
    },
    {
     "data": {
      "image/png": "[encoded data removed]",
      "text/plain": [
       "<Figure size 432x288 with 1 Axes>"
      ]
     },
     "metadata": {},
     "output_type": "display_data"
    }
   ],
   "source": [
    "print(\"ROC Auc score: \", roc_auc_score(y_test, rf_predict))\n",
    "#plotter la roc + explications\n",
    "auprc(y_test, rf_predict, plot=True)"
   ]
  },
  {
   "cell_type": "code",
   "execution_count": 33,
   "id": "c5e76b11",
   "metadata": {},
   "outputs": [
    {
     "name": "stdout",
     "output_type": "stream",
     "text": [
      "[[5083310     176]\n",
      " [   1597    5013]]\n"
     ]
    },
    {
     "data": {
      "image/png": "[encoded data removed]",
      "text/plain": [
       "<Figure size 432x288 with 2 Axes>"
      ]
     },
     "metadata": {},
     "output_type": "display_data"
    }
   ],
   "source": [
    "cf_matrix_rf = confusion_matrix(y_test, rf_predict)\n",
    "print(cf_matrix_rf)\n",
    "\n",
    "group_names_rf = ['True Neg','False Pos','False Neg','True Pos']\n",
    "group_counts_rf = ['{0:0.0f}'.format(value) for value in\n",
    "                cf_matrix_rf.flatten()]\n",
    "labels_rf = [f'{v1}\\n\\n{v2}' for v1, v2 in\n",
    "          zip(group_names_rf,group_counts_rf)]\n",
    "labels_rf = np.asarray(labels_rf).reshape(2,2)\n",
    "\n",
    "sns.heatmap(cf_matrix_rf, annot=labels_rf,fmt='',cmap='Blues')\n",
    "plt.xlabel(\"Predicted Classes\")\n",
    "plt.ylabel(\"True Classes\")\n",
    "plt.show()"
   ]
  },
  {
   "cell_type": "markdown",
   "id": "60dd7430",
   "metadata": {},
   "source": [
    "### LightGBM\n",
    "\n",
    "What is LightGBM ? Light GBM is a gradient boosting framework that uses tree based learning algorithm.\n",
    "\n",
    "Why did I choose LightGBM ?\n",
    "\n",
    "LightGBM is an algorithm that works well on large datasets, such as the one I'm currently working on (more than 6 million rows x 10 columns.\n",
    "It is also relatively good at handling imbalanced data, although the level of imbalance in this dataset (99,8% of class 0 vs 0,13% of class 1) might prove too much for it to handle. \n"
   ]
  },
  {
   "cell_type": "markdown",
   "id": "10ad3f24",
   "metadata": {},
   "source": [
    "###  Sampling for detection\n",
    "Objectives :\n",
    "As we noticed earlier, the data are unbalanced. Indeed, there are clearly more transactions detected as \"non-fraudulent\" than fraudulent ones. \n",
    "In order to train our algorithm in an optimal way, we will proceed to a balanced sampling.\n",
    "\n",
    "Moreover : the dataset is hudge : more than 6M values. \n",
    "Undersampling will help"
   ]
  },
  {
   "cell_type": "markdown",
   "id": "99c1535e",
   "metadata": {},
   "source": [
    "### Light GBM with undersampling"
   ]
  },
  {
   "cell_type": "code",
   "execution_count": 34,
   "id": "080e9b81",
   "metadata": {},
   "outputs": [],
   "source": [
    "sampler = RandomUnderSampler(sampling_strategy = 1, random_state = 42)\n",
    "# sampling ration is 1, means equal share of classes "
   ]
  },
  {
   "cell_type": "code",
   "execution_count": 35,
   "id": "092c7fcc",
   "metadata": {},
   "outputs": [],
   "source": [
    "undersampled_x, undersampled_y = sampler.fit_resample(x, y)"
   ]
  },
  {
   "cell_type": "code",
   "execution_count": 36,
   "id": "5ac10907",
   "metadata": {},
   "outputs": [
    {
     "data": {
      "text/plain": [
       "((16426, 9), (16426,))"
      ]
     },
     "execution_count": 36,
     "metadata": {},
     "output_type": "execute_result"
    }
   ],
   "source": [
    "undersampled_x.shape, undersampled_y.shape"
   ]
  },
  {
   "cell_type": "code",
   "execution_count": 37,
   "id": "8ad2463f",
   "metadata": {},
   "outputs": [
    {
     "data": {
      "text/plain": [
       "0    6354407\n",
       "1       8213\n",
       "Name: isFraud, dtype: int64"
      ]
     },
     "execution_count": 37,
     "metadata": {},
     "output_type": "execute_result"
    }
   ],
   "source": [
    "df.isFraud.value_counts() \n",
    "#as we can see,the original dataset is unbalanced with 8K fraudulent transactions against 6M non-fraudulent"
   ]
  },
  {
   "cell_type": "code",
   "execution_count": 38,
   "id": "93059d51",
   "metadata": {},
   "outputs": [
    {
     "data": {
      "text/plain": [
       "0    8213\n",
       "1    8213\n",
       "Name: isFraud, dtype: int64"
      ]
     },
     "execution_count": 38,
     "metadata": {},
     "output_type": "execute_result"
    }
   ],
   "source": [
    "undersampled_y.value_counts()\n",
    "#here with the undersampler we got as many fraudulent and non-fraudulent"
   ]
  },
  {
   "cell_type": "code",
   "execution_count": 39,
   "id": "36f48044",
   "metadata": {},
   "outputs": [],
   "source": [
    "X_train_under, X_test_under, y_train_under, y_test_under = train_test_split(undersampled_x, undersampled_y, random_state = 42, train_size = 0.2)"
   ]
  },
  {
   "cell_type": "code",
   "execution_count": 40,
   "id": "3ba49fcc",
   "metadata": {},
   "outputs": [
    {
     "data": {
      "text/plain": [
       "((3285, 9), (13141, 9), (3285,), (13141,))"
      ]
     },
     "execution_count": 40,
     "metadata": {},
     "output_type": "execute_result"
    }
   ],
   "source": [
    "X_train_under.shape, X_test_under.shape, y_train_under.shape, y_test_under.shape"
   ]
  },
  {
   "cell_type": "code",
   "execution_count": 41,
   "id": "14d5fc5f",
   "metadata": {},
   "outputs": [],
   "source": [
    "lg = lgb.LGBMClassifier(max_depth = 10, learning_rate = 0.1, reg_alpha = 0.3,\n",
    "                       reg_lambda = 0.5)\n",
    "lg.fit(X_train, y_train)\n",
    "y_pred_lg = lg.predict(X_test)"
   ]
  },
  {
   "cell_type": "code",
   "execution_count": 42,
   "id": "d4a022a7",
   "metadata": {},
   "outputs": [
    {
     "name": "stdout",
     "output_type": "stream",
     "text": [
      "              precision    recall  f1-score   support\n",
      "\n",
      "           0       1.00      1.00      1.00   5083486\n",
      "           1       0.96      0.76      0.85      6610\n",
      "\n",
      "    accuracy                           1.00   5090096\n",
      "   macro avg       0.98      0.88      0.92   5090096\n",
      "weighted avg       1.00      1.00      1.00   5090096\n",
      "\n"
     ]
    }
   ],
   "source": [
    "print(classification_report(y_test, y_pred_lg))"
   ]
  },
  {
   "cell_type": "code",
   "execution_count": 43,
   "id": "43b711e3",
   "metadata": {},
   "outputs": [
    {
     "data": {
      "text/plain": [
       "(5090096,)"
      ]
     },
     "execution_count": 43,
     "metadata": {},
     "output_type": "execute_result"
    }
   ],
   "source": [
    "y_pred_lg.shape"
   ]
  },
  {
   "cell_type": "code",
   "execution_count": 44,
   "id": "45efd07e",
   "metadata": {
    "collapsed": true
   },
   "outputs": [
    {
     "name": "stdout",
     "output_type": "stream",
     "text": [
      "ROC AUC Score= 0.8522168130836478\n",
      "[<matplotlib.lines.Line2D object at 0x0000024F49B1E6E0>] Text(0.5, 1.0, 'Precision-Recall Curve') Text(0, 0.5, 'True Positive Rate') Text(0.5, 0, 'False Positive Rate')\n"
     ]
    },
    {
     "data": {
      "text/plain": [
       "0.8586412505517146"
      ]
     },
     "execution_count": 44,
     "metadata": {},
     "output_type": "execute_result"
    },
    {
     "data": {
      "image/png": "[encoded data removed]",
      "text/plain": [
       "<Figure size 432x288 with 1 Axes>"
      ]
     },
     "metadata": {},
     "output_type": "display_data"
    }
   ],
   "source": [
    "#roc auc score + plot\n",
    "print (\"ROC AUC Score=\",roc_auc_score(y_test, lr_pred))\n",
    "\n",
    "auprc(y_test,  y_pred_lg, plot=True)"
   ]
  },
  {
   "cell_type": "code",
   "execution_count": 45,
   "id": "ecfc0c52",
   "metadata": {},
   "outputs": [
    {
     "name": "stdout",
     "output_type": "stream",
     "text": [
      "[[5083251     235]\n",
      " [   1576    5034]]\n"
     ]
    },
    {
     "data": {
      "image/png": "[encoded data removed]",
      "text/plain": [
       "<Figure size 432x288 with 2 Axes>"
      ]
     },
     "metadata": {},
     "output_type": "display_data"
    }
   ],
   "source": [
    "cf_matrix_lg = confusion_matrix(y_test,  y_pred_lg)\n",
    "print(cf_matrix_lg)\n",
    "\n",
    "group_names_lg = ['True Neg','False Pos','False Neg','True Pos']\n",
    "group_counts_lg = ['{0:0.0f}'.format(value) for value in\n",
    "                cf_matrix_lg.flatten()]\n",
    "labels_lg = [f'{v1}\\n\\n{v2}' for v1, v2 in\n",
    "          zip(group_names_lg,group_counts_lg)]\n",
    "labels_lg = np.asarray(labels_lg).reshape(2,2)\n",
    "\n",
    "sns.heatmap(cf_matrix_lg, annot=labels_lg,fmt='',cmap='Blues')\n",
    "plt.xlabel(\"Predicted Classes\")\n",
    "plt.ylabel(\"True Classes\")\n",
    "plt.show()"
   ]
  },
  {
   "cell_type": "markdown",
   "id": "e4017273",
   "metadata": {},
   "source": [
    "### testing random Oversampler with SMOTE"
   ]
  },
  {
   "cell_type": "code",
   "execution_count": 46,
   "id": "cab0b795",
   "metadata": {},
   "outputs": [],
   "source": [
    "X_train_os, y_train_os = SMOTE(sampling_strategy=0.5, k_neighbors=5, \n",
    "                               random_state=1).fit_resample(x, y)"
   ]
  },
  {
   "cell_type": "code",
   "execution_count": 47,
   "id": "636a7b2b",
   "metadata": {},
   "outputs": [
    {
     "data": {
      "text/plain": [
       "Counter({0: 6354407, 1: 3177203})"
      ]
     },
     "execution_count": 47,
     "metadata": {},
     "output_type": "execute_result"
    }
   ],
   "source": [
    "Counter(y_train_os) #checks the  shape of y_train \n",
    "#we can notice than the SMOTE has inflated the number of fraudulent cases. We are now up to more than 3 million cases instead of 8000"
   ]
  },
  {
   "cell_type": "code",
   "execution_count": 48,
   "id": "c4eac214",
   "metadata": {},
   "outputs": [],
   "source": [
    "lg_SMOTE = lgb.LGBMClassifier(max_depth = 10, learning_rate = 0.1, reg_alpha = 0.1,\n",
    "                       reg_lambda = 0.3)\n",
    "lg_SMOTE.fit(X_train_os, y_train_os)\n",
    "y_pred_os = lg_SMOTE.predict(X_test)"
   ]
  },
  {
   "cell_type": "code",
   "execution_count": 49,
   "id": "4df6f4fa",
   "metadata": {
    "scrolled": true
   },
   "outputs": [
    {
     "name": "stdout",
     "output_type": "stream",
     "text": [
      "              precision    recall  f1-score   support\n",
      "\n",
      "           0       1.00      1.00      1.00   5083486\n",
      "           1       0.26      1.00      0.41      6610\n",
      "\n",
      "    accuracy                           1.00   5090096\n",
      "   macro avg       0.63      1.00      0.70   5090096\n",
      "weighted avg       1.00      1.00      1.00   5090096\n",
      "\n"
     ]
    }
   ],
   "source": [
    "print(classification_report(y_test, y_pred_os))"
   ]
  },
  {
   "cell_type": "code",
   "execution_count": 50,
   "id": "9a1bc94b",
   "metadata": {
    "collapsed": true
   },
   "outputs": [
    {
     "name": "stdout",
     "output_type": "stream",
     "text": [
      "ROC AUC Score= 0.99618130573784\n",
      "[<matplotlib.lines.Line2D object at 0x0000025043970880>] Text(0.5, 1.0, 'Precision-Recall Curve') Text(0, 0.5, 'True Positive Rate') Text(0.5, 0, 'False Positive Rate')\n"
     ]
    },
    {
     "data": {
      "text/plain": [
       "0.6275758360970266"
      ]
     },
     "execution_count": 50,
     "metadata": {},
     "output_type": "execute_result"
    },
    {
     "data": {
      "image/png": "[encoded data removed]",
      "text/plain": [
       "<Figure size 432x288 with 1 Axes>"
      ]
     },
     "metadata": {},
     "output_type": "display_data"
    }
   ],
   "source": [
    "print (\"ROC AUC Score=\",roc_auc_score(y_test, y_pred_os))\n",
    "\n",
    "auprc(y_test, y_pred_os, plot=True)"
   ]
  },
  {
   "cell_type": "code",
   "execution_count": 51,
   "id": "2ae51fa3",
   "metadata": {},
   "outputs": [
    {
     "name": "stdout",
     "output_type": "stream",
     "text": [
      "[[5064657   18829]\n",
      " [     26    6584]]\n"
     ]
    },
    {
     "data": {
      "image/png": "[encoded data removed]",
      "text/plain": [
       "<Figure size 432x288 with 2 Axes>"
      ]
     },
     "metadata": {},
     "output_type": "display_data"
    }
   ],
   "source": [
    "cf_matrix_smote = confusion_matrix(y_test,  y_pred_os)\n",
    "print(cf_matrix_smote)\n",
    "\n",
    "group_names_smote = ['True Neg','False Pos','False Neg','True Pos']\n",
    "group_counts_smote = ['{0:0.0f}'.format(value) for value in\n",
    "                cf_matrix_smote.flatten()]\n",
    "labels_smote = [f'{v1}\\n\\n{v2}' for v1, v2 in\n",
    "          zip(group_names_smote,group_counts_smote)]\n",
    "labels_smote = np.asarray(labels_smote).reshape(2,2)\n",
    "\n",
    "sns.heatmap(cf_matrix_smote, annot=labels_smote,fmt='',cmap='Blues')\n",
    "plt.xlabel(\"Predicted Classes\")\n",
    "plt.ylabel(\"True Classes\")\n",
    "plt.show()"
   ]
  },
  {
   "cell_type": "markdown",
   "id": "aa27ca81",
   "metadata": {},
   "source": [
    "# To conclude..."
   ]
  },
  {
   "cell_type": "markdown",
   "id": "c764870e",
   "metadata": {},
   "source": [
    "## Let's compare the results"
   ]
  },
  {
   "cell_type": "code",
   "execution_count": 53,
   "id": "67162074",
   "metadata": {
    "scrolled": false
   },
   "outputs": [
    {
     "data": {
      "text/plain": [
       "Text(528.6090909090908, 0.5, 'True Classes')"
      ]
     },
     "execution_count": 53,
     "metadata": {},
     "output_type": "execute_result"
    },
    {
     "data": {
      "image/png": "[encoded data removed]",
      "text/plain": [
       "<Figure size 1008x720 with 8 Axes>"
      ]
     },
     "metadata": {},
     "output_type": "display_data"
    }
   ],
   "source": [
    "fig, axes = plt.subplots(2, 2, sharex=True, figsize=(14,10))\n",
    "fig.suptitle('Comparison of the models results with confusion Matrix')\n",
    "\n",
    "#logistic regression\n",
    "cf1 =sns.heatmap(cf_matrix_lr, annot=labels_lr,fmt='',cmap='Blues',ax=axes[0, 0])\n",
    "cf1.set_title('logistic regression',fontsize=15)\n",
    "cf1.set_xlabel(\"Predicted Classes\",color='darkblue')\n",
    "cf1.set_ylabel(\"True Classes\",color='darkblue')\n",
    "\n",
    "#RandomForestClassifier\n",
    "cf2 = sns.heatmap(data=cf_matrix_rf, annot=labels_rf,fmt='',cmap='Blues',ax=axes[0, 1])\n",
    "cf2.set_title('RandomForestClassifier',fontsize=15)\n",
    "cf2.set_xlabel(\"Predicted Classes\",color='darkblue')\n",
    "cf2.set_ylabel(\"True Classes\",color='darkblue')\n",
    "\n",
    "#lightGBM undersampling\n",
    "cf3 =sns.heatmap(cf_matrix_lg, annot=labels_lg,fmt='',cmap='Blues',ax=axes[1, 0])\n",
    "cf3.set_title('lightGBM undersampling',fontsize=15)\n",
    "cf3.set_xlabel(\"Predicted Classes\",color='darkblue')\n",
    "cf3.set_ylabel(\"True Classes\",color='darkblue')\n",
    "\n",
    "#smote\n",
    "cf4 =sns.heatmap(cf_matrix_smote, annot=labels_smote,fmt='',cmap='Blues',ax=axes[1, 1])\n",
    "cf4.set_title('SMOTE',fontsize=15)\n",
    "cf4.set_xlabel(\"Predicted Classes\",color='darkblue')\n",
    "cf4.set_ylabel(\"True Classes\",color='darkblue')\n"
   ]
  },
  {
   "cell_type": "markdown",
   "id": "cc03bcf6",
   "metadata": {},
   "source": [
    "Notes :\n",
    "\n",
    "- Logistic Regression :  70% of good predictions for fraudulent cases. However, approximately 7,000 transactions were detected as fraudulent when in fact they were not\n",
    "\n",
    "- RandomForest : 75% of good predictions for fraudulent cases, but more than 1 thousand frauds has not been detected ('False Negative'). At the same time, the model detects non-fraudulent cases well.\n",
    "\n",
    "- Undersampling with LightGBM :  76% of good predictions with a better aproach for the non-fraudulent cases with only 235 False Positive. Still needs some improvements (1.5K False Negatives)\n",
    "\n",
    "\n",
    "- Oversampling with LightGBM :  99% of good predictions for fraudulent cases, but almost 20K of non fraudulent transaction were detected as fraudulent.\n",
    "\n",
    "These models could be further optimized by playing with hyperparameters and features (examples : adding nameDest, increase the number of frauds in SMOTE...). We could also try other  models such as Decision Tree Classifier, Isolation forest or deeplearning models for example."
   ]
  }
 ],
 "metadata": {
  "kernelspec": {
   "display_name": "Python 3 (ipykernel)",
   "language": "python",
   "name": "python3"
  },
  "language_info": {
   "codemirror_mode": {
    "name": "ipython",
    "version": 3
   },
   "file_extension": ".py",
   "mimetype": "text/x-python",
   "name": "python",
   "nbconvert_exporter": "python",
   "pygments_lexer": "ipython3",
   "version": "3.10.4"
  }
 },
 "nbformat": 4,
 "nbformat_minor": 5
}
